{
  "nbformat": 4,
  "nbformat_minor": 0,
  "metadata": {
    "colab": {
      "provenance": [],
      "authorship_tag": "ABX9TyNtSQMmZh6aZS3rfQpawT/P",
      "include_colab_link": true
    },
    "kernelspec": {
      "name": "python3",
      "display_name": "Python 3"
    },
    "language_info": {
      "name": "python"
    }
  },
  "cells": [
    {
      "cell_type": "markdown",
      "metadata": {
        "id": "view-in-github",
        "colab_type": "text"
      },
      "source": [
        "<a href=\"https://colab.research.google.com/github/ksi81/Data-Science_HW_5/blob/main/hw_5_part_3.ipynb\" target=\"_parent\"><img src=\"https://colab.research.google.com/assets/colab-badge.svg\" alt=\"Open In Colab\"/></a>"
      ]
    },
    {
      "cell_type": "code",
      "source": [
        "import pandas as pd\n",
        "\n",
        "df = pd.read_csv('bestsellers with categories.csv')\n",
        "print(\"Перші п'ять рядків:\")\n",
        "df.head()"
      ],
      "metadata": {
        "colab": {
          "base_uri": "https://localhost:8080/",
          "height": 224
        },
        "id": "mBH6_8_6msOY",
        "outputId": "9c1e2183-cf24-416e-85ed-f4693f86aa8b"
      },
      "execution_count": null,
      "outputs": [
        {
          "output_type": "stream",
          "name": "stdout",
          "text": [
            "Перші п'ять рядків:\n"
          ]
        },
        {
          "output_type": "execute_result",
          "data": {
            "text/plain": [
              "                                                Name  \\\n",
              "0                      10-Day Green Smoothie Cleanse   \n",
              "1                                  11/22/63: A Novel   \n",
              "2            12 Rules for Life: An Antidote to Chaos   \n",
              "3                             1984 (Signet Classics)   \n",
              "4  5,000 Awesome Facts (About Everything!) (Natio...   \n",
              "\n",
              "                     Author  User Rating  Reviews  Price  Year        Genre  \n",
              "0                  JJ Smith          4.7    17350      8  2016  Non Fiction  \n",
              "1              Stephen King          4.6     2052     22  2011      Fiction  \n",
              "2        Jordan B. Peterson          4.7    18979     15  2018  Non Fiction  \n",
              "3             George Orwell          4.7    21424      6  2017      Fiction  \n",
              "4  National Geographic Kids          4.8     7665     12  2019  Non Fiction  "
            ],
            "text/html": [
              "\n",
              "  <div id=\"df-c50cc4bb-4dc7-445e-974a-2a9cddc59f25\" class=\"colab-df-container\">\n",
              "    <div>\n",
              "<style scoped>\n",
              "    .dataframe tbody tr th:only-of-type {\n",
              "        vertical-align: middle;\n",
              "    }\n",
              "\n",
              "    .dataframe tbody tr th {\n",
              "        vertical-align: top;\n",
              "    }\n",
              "\n",
              "    .dataframe thead th {\n",
              "        text-align: right;\n",
              "    }\n",
              "</style>\n",
              "<table border=\"1\" class=\"dataframe\">\n",
              "  <thead>\n",
              "    <tr style=\"text-align: right;\">\n",
              "      <th></th>\n",
              "      <th>Name</th>\n",
              "      <th>Author</th>\n",
              "      <th>User Rating</th>\n",
              "      <th>Reviews</th>\n",
              "      <th>Price</th>\n",
              "      <th>Year</th>\n",
              "      <th>Genre</th>\n",
              "    </tr>\n",
              "  </thead>\n",
              "  <tbody>\n",
              "    <tr>\n",
              "      <th>0</th>\n",
              "      <td>10-Day Green Smoothie Cleanse</td>\n",
              "      <td>JJ Smith</td>\n",
              "      <td>4.7</td>\n",
              "      <td>17350</td>\n",
              "      <td>8</td>\n",
              "      <td>2016</td>\n",
              "      <td>Non Fiction</td>\n",
              "    </tr>\n",
              "    <tr>\n",
              "      <th>1</th>\n",
              "      <td>11/22/63: A Novel</td>\n",
              "      <td>Stephen King</td>\n",
              "      <td>4.6</td>\n",
              "      <td>2052</td>\n",
              "      <td>22</td>\n",
              "      <td>2011</td>\n",
              "      <td>Fiction</td>\n",
              "    </tr>\n",
              "    <tr>\n",
              "      <th>2</th>\n",
              "      <td>12 Rules for Life: An Antidote to Chaos</td>\n",
              "      <td>Jordan B. Peterson</td>\n",
              "      <td>4.7</td>\n",
              "      <td>18979</td>\n",
              "      <td>15</td>\n",
              "      <td>2018</td>\n",
              "      <td>Non Fiction</td>\n",
              "    </tr>\n",
              "    <tr>\n",
              "      <th>3</th>\n",
              "      <td>1984 (Signet Classics)</td>\n",
              "      <td>George Orwell</td>\n",
              "      <td>4.7</td>\n",
              "      <td>21424</td>\n",
              "      <td>6</td>\n",
              "      <td>2017</td>\n",
              "      <td>Fiction</td>\n",
              "    </tr>\n",
              "    <tr>\n",
              "      <th>4</th>\n",
              "      <td>5,000 Awesome Facts (About Everything!) (Natio...</td>\n",
              "      <td>National Geographic Kids</td>\n",
              "      <td>4.8</td>\n",
              "      <td>7665</td>\n",
              "      <td>12</td>\n",
              "      <td>2019</td>\n",
              "      <td>Non Fiction</td>\n",
              "    </tr>\n",
              "  </tbody>\n",
              "</table>\n",
              "</div>\n",
              "    <div class=\"colab-df-buttons\">\n",
              "\n",
              "  <div class=\"colab-df-container\">\n",
              "    <button class=\"colab-df-convert\" onclick=\"convertToInteractive('df-c50cc4bb-4dc7-445e-974a-2a9cddc59f25')\"\n",
              "            title=\"Convert this dataframe to an interactive table.\"\n",
              "            style=\"display:none;\">\n",
              "\n",
              "  <svg xmlns=\"http://www.w3.org/2000/svg\" height=\"24px\" viewBox=\"0 -960 960 960\">\n",
              "    <path d=\"M120-120v-720h720v720H120Zm60-500h600v-160H180v160Zm220 220h160v-160H400v160Zm0 220h160v-160H400v160ZM180-400h160v-160H180v160Zm440 0h160v-160H620v160ZM180-180h160v-160H180v160Zm440 0h160v-160H620v160Z\"/>\n",
              "  </svg>\n",
              "    </button>\n",
              "\n",
              "  <style>\n",
              "    .colab-df-container {\n",
              "      display:flex;\n",
              "      gap: 12px;\n",
              "    }\n",
              "\n",
              "    .colab-df-convert {\n",
              "      background-color: #E8F0FE;\n",
              "      border: none;\n",
              "      border-radius: 50%;\n",
              "      cursor: pointer;\n",
              "      display: none;\n",
              "      fill: #1967D2;\n",
              "      height: 32px;\n",
              "      padding: 0 0 0 0;\n",
              "      width: 32px;\n",
              "    }\n",
              "\n",
              "    .colab-df-convert:hover {\n",
              "      background-color: #E2EBFA;\n",
              "      box-shadow: 0px 1px 2px rgba(60, 64, 67, 0.3), 0px 1px 3px 1px rgba(60, 64, 67, 0.15);\n",
              "      fill: #174EA6;\n",
              "    }\n",
              "\n",
              "    .colab-df-buttons div {\n",
              "      margin-bottom: 4px;\n",
              "    }\n",
              "\n",
              "    [theme=dark] .colab-df-convert {\n",
              "      background-color: #3B4455;\n",
              "      fill: #D2E3FC;\n",
              "    }\n",
              "\n",
              "    [theme=dark] .colab-df-convert:hover {\n",
              "      background-color: #434B5C;\n",
              "      box-shadow: 0px 1px 3px 1px rgba(0, 0, 0, 0.15);\n",
              "      filter: drop-shadow(0px 1px 2px rgba(0, 0, 0, 0.3));\n",
              "      fill: #FFFFFF;\n",
              "    }\n",
              "  </style>\n",
              "\n",
              "    <script>\n",
              "      const buttonEl =\n",
              "        document.querySelector('#df-c50cc4bb-4dc7-445e-974a-2a9cddc59f25 button.colab-df-convert');\n",
              "      buttonEl.style.display =\n",
              "        google.colab.kernel.accessAllowed ? 'block' : 'none';\n",
              "\n",
              "      async function convertToInteractive(key) {\n",
              "        const element = document.querySelector('#df-c50cc4bb-4dc7-445e-974a-2a9cddc59f25');\n",
              "        const dataTable =\n",
              "          await google.colab.kernel.invokeFunction('convertToInteractive',\n",
              "                                                    [key], {});\n",
              "        if (!dataTable) return;\n",
              "\n",
              "        const docLinkHtml = 'Like what you see? Visit the ' +\n",
              "          '<a target=\"_blank\" href=https://colab.research.google.com/notebooks/data_table.ipynb>data table notebook</a>'\n",
              "          + ' to learn more about interactive tables.';\n",
              "        element.innerHTML = '';\n",
              "        dataTable['output_type'] = 'display_data';\n",
              "        await google.colab.output.renderOutput(dataTable, element);\n",
              "        const docLink = document.createElement('div');\n",
              "        docLink.innerHTML = docLinkHtml;\n",
              "        element.appendChild(docLink);\n",
              "      }\n",
              "    </script>\n",
              "  </div>\n",
              "\n",
              "\n",
              "<div id=\"df-ba1a43af-9c18-4c18-b8f4-66eacbf98301\">\n",
              "  <button class=\"colab-df-quickchart\" onclick=\"quickchart('df-ba1a43af-9c18-4c18-b8f4-66eacbf98301')\"\n",
              "            title=\"Suggest charts\"\n",
              "            style=\"display:none;\">\n",
              "\n",
              "<svg xmlns=\"http://www.w3.org/2000/svg\" height=\"24px\"viewBox=\"0 0 24 24\"\n",
              "     width=\"24px\">\n",
              "    <g>\n",
              "        <path d=\"M19 3H5c-1.1 0-2 .9-2 2v14c0 1.1.9 2 2 2h14c1.1 0 2-.9 2-2V5c0-1.1-.9-2-2-2zM9 17H7v-7h2v7zm4 0h-2V7h2v10zm4 0h-2v-4h2v4z\"/>\n",
              "    </g>\n",
              "</svg>\n",
              "  </button>\n",
              "\n",
              "<style>\n",
              "  .colab-df-quickchart {\n",
              "      --bg-color: #E8F0FE;\n",
              "      --fill-color: #1967D2;\n",
              "      --hover-bg-color: #E2EBFA;\n",
              "      --hover-fill-color: #174EA6;\n",
              "      --disabled-fill-color: #AAA;\n",
              "      --disabled-bg-color: #DDD;\n",
              "  }\n",
              "\n",
              "  [theme=dark] .colab-df-quickchart {\n",
              "      --bg-color: #3B4455;\n",
              "      --fill-color: #D2E3FC;\n",
              "      --hover-bg-color: #434B5C;\n",
              "      --hover-fill-color: #FFFFFF;\n",
              "      --disabled-bg-color: #3B4455;\n",
              "      --disabled-fill-color: #666;\n",
              "  }\n",
              "\n",
              "  .colab-df-quickchart {\n",
              "    background-color: var(--bg-color);\n",
              "    border: none;\n",
              "    border-radius: 50%;\n",
              "    cursor: pointer;\n",
              "    display: none;\n",
              "    fill: var(--fill-color);\n",
              "    height: 32px;\n",
              "    padding: 0;\n",
              "    width: 32px;\n",
              "  }\n",
              "\n",
              "  .colab-df-quickchart:hover {\n",
              "    background-color: var(--hover-bg-color);\n",
              "    box-shadow: 0 1px 2px rgba(60, 64, 67, 0.3), 0 1px 3px 1px rgba(60, 64, 67, 0.15);\n",
              "    fill: var(--button-hover-fill-color);\n",
              "  }\n",
              "\n",
              "  .colab-df-quickchart-complete:disabled,\n",
              "  .colab-df-quickchart-complete:disabled:hover {\n",
              "    background-color: var(--disabled-bg-color);\n",
              "    fill: var(--disabled-fill-color);\n",
              "    box-shadow: none;\n",
              "  }\n",
              "\n",
              "  .colab-df-spinner {\n",
              "    border: 2px solid var(--fill-color);\n",
              "    border-color: transparent;\n",
              "    border-bottom-color: var(--fill-color);\n",
              "    animation:\n",
              "      spin 1s steps(1) infinite;\n",
              "  }\n",
              "\n",
              "  @keyframes spin {\n",
              "    0% {\n",
              "      border-color: transparent;\n",
              "      border-bottom-color: var(--fill-color);\n",
              "      border-left-color: var(--fill-color);\n",
              "    }\n",
              "    20% {\n",
              "      border-color: transparent;\n",
              "      border-left-color: var(--fill-color);\n",
              "      border-top-color: var(--fill-color);\n",
              "    }\n",
              "    30% {\n",
              "      border-color: transparent;\n",
              "      border-left-color: var(--fill-color);\n",
              "      border-top-color: var(--fill-color);\n",
              "      border-right-color: var(--fill-color);\n",
              "    }\n",
              "    40% {\n",
              "      border-color: transparent;\n",
              "      border-right-color: var(--fill-color);\n",
              "      border-top-color: var(--fill-color);\n",
              "    }\n",
              "    60% {\n",
              "      border-color: transparent;\n",
              "      border-right-color: var(--fill-color);\n",
              "    }\n",
              "    80% {\n",
              "      border-color: transparent;\n",
              "      border-right-color: var(--fill-color);\n",
              "      border-bottom-color: var(--fill-color);\n",
              "    }\n",
              "    90% {\n",
              "      border-color: transparent;\n",
              "      border-bottom-color: var(--fill-color);\n",
              "    }\n",
              "  }\n",
              "</style>\n",
              "\n",
              "  <script>\n",
              "    async function quickchart(key) {\n",
              "      const quickchartButtonEl =\n",
              "        document.querySelector('#' + key + ' button');\n",
              "      quickchartButtonEl.disabled = true;  // To prevent multiple clicks.\n",
              "      quickchartButtonEl.classList.add('colab-df-spinner');\n",
              "      try {\n",
              "        const charts = await google.colab.kernel.invokeFunction(\n",
              "            'suggestCharts', [key], {});\n",
              "      } catch (error) {\n",
              "        console.error('Error during call to suggestCharts:', error);\n",
              "      }\n",
              "      quickchartButtonEl.classList.remove('colab-df-spinner');\n",
              "      quickchartButtonEl.classList.add('colab-df-quickchart-complete');\n",
              "    }\n",
              "    (() => {\n",
              "      let quickchartButtonEl =\n",
              "        document.querySelector('#df-ba1a43af-9c18-4c18-b8f4-66eacbf98301 button');\n",
              "      quickchartButtonEl.style.display =\n",
              "        google.colab.kernel.accessAllowed ? 'block' : 'none';\n",
              "    })();\n",
              "  </script>\n",
              "</div>\n",
              "    </div>\n",
              "  </div>\n"
            ],
            "application/vnd.google.colaboratory.intrinsic+json": {
              "type": "dataframe",
              "variable_name": "df",
              "summary": "{\n  \"name\": \"df\",\n  \"rows\": 550,\n  \"fields\": [\n    {\n      \"column\": \"Name\",\n      \"properties\": {\n        \"dtype\": \"string\",\n        \"num_unique_values\": 351,\n        \"samples\": [\n          \"Life\",\n          \"Where the Crawdads Sing\",\n          \"Thinking, Fast and Slow\"\n        ],\n        \"semantic_type\": \"\",\n        \"description\": \"\"\n      }\n    },\n    {\n      \"column\": \"Author\",\n      \"properties\": {\n        \"dtype\": \"category\",\n        \"num_unique_values\": 248,\n        \"samples\": [\n          \"Jeff Kinney\",\n          \"Amor Towles\",\n          \"Stieg Larsson\"\n        ],\n        \"semantic_type\": \"\",\n        \"description\": \"\"\n      }\n    },\n    {\n      \"column\": \"User Rating\",\n      \"properties\": {\n        \"dtype\": \"number\",\n        \"std\": 0.2269803650251963,\n        \"min\": 3.3,\n        \"max\": 4.9,\n        \"num_unique_values\": 14,\n        \"samples\": [\n          3.8,\n          4.0,\n          4.7\n        ],\n        \"semantic_type\": \"\",\n        \"description\": \"\"\n      }\n    },\n    {\n      \"column\": \"Reviews\",\n      \"properties\": {\n        \"dtype\": \"number\",\n        \"std\": 11731,\n        \"min\": 37,\n        \"max\": 87841,\n        \"num_unique_values\": 346,\n        \"samples\": [\n          5972,\n          1884,\n          49288\n        ],\n        \"semantic_type\": \"\",\n        \"description\": \"\"\n      }\n    },\n    {\n      \"column\": \"Price\",\n      \"properties\": {\n        \"dtype\": \"number\",\n        \"std\": 10,\n        \"min\": 0,\n        \"max\": 105,\n        \"num_unique_values\": 40,\n        \"samples\": [\n          0,\n          24,\n          9\n        ],\n        \"semantic_type\": \"\",\n        \"description\": \"\"\n      }\n    },\n    {\n      \"column\": \"Year\",\n      \"properties\": {\n        \"dtype\": \"number\",\n        \"std\": 3,\n        \"min\": 2009,\n        \"max\": 2019,\n        \"num_unique_values\": 11,\n        \"samples\": [\n          2014,\n          2016,\n          2013\n        ],\n        \"semantic_type\": \"\",\n        \"description\": \"\"\n      }\n    },\n    {\n      \"column\": \"Genre\",\n      \"properties\": {\n        \"dtype\": \"category\",\n        \"num_unique_values\": 2,\n        \"samples\": [\n          \"Fiction\",\n          \"Non Fiction\"\n        ],\n        \"semantic_type\": \"\",\n        \"description\": \"\"\n      }\n    }\n  ]\n}"
            }
          },
          "metadata": {},
          "execution_count": 2
        }
      ]
    },
    {
      "cell_type": "code",
      "source": [
        "print(\"\\nРозмір датасету:\")\n",
        "df.shape"
      ],
      "metadata": {
        "colab": {
          "base_uri": "https://localhost:8080/"
        },
        "id": "IP72XtlBm5Yt",
        "outputId": "3199a2e6-c900-48e5-ca53-0fc4c4edffbd"
      },
      "execution_count": null,
      "outputs": [
        {
          "output_type": "stream",
          "name": "stdout",
          "text": [
            "\n",
            "Розмір датасету:\n"
          ]
        },
        {
          "output_type": "execute_result",
          "data": {
            "text/plain": [
              "(550, 7)"
            ]
          },
          "metadata": {},
          "execution_count": 3
        }
      ]
    },
    {
      "cell_type": "code",
      "source": [
        "df.columns = ['name', 'author', 'user_rating', 'reviews', 'price', 'year', 'genre']\n",
        "df.head()"
      ],
      "metadata": {
        "colab": {
          "base_uri": "https://localhost:8080/",
          "height": 206
        },
        "id": "vhIjQoH76IU6",
        "outputId": "9c686649-31bd-4c51-d4a8-9c8934ce9586"
      },
      "execution_count": null,
      "outputs": [
        {
          "output_type": "execute_result",
          "data": {
            "text/plain": [
              "                                                name  \\\n",
              "0                      10-Day Green Smoothie Cleanse   \n",
              "1                                  11/22/63: A Novel   \n",
              "2            12 Rules for Life: An Antidote to Chaos   \n",
              "3                             1984 (Signet Classics)   \n",
              "4  5,000 Awesome Facts (About Everything!) (Natio...   \n",
              "\n",
              "                     author  user_rating  reviews  price  year        genre  \n",
              "0                  JJ Smith          4.7    17350      8  2016  Non Fiction  \n",
              "1              Stephen King          4.6     2052     22  2011      Fiction  \n",
              "2        Jordan B. Peterson          4.7    18979     15  2018  Non Fiction  \n",
              "3             George Orwell          4.7    21424      6  2017      Fiction  \n",
              "4  National Geographic Kids          4.8     7665     12  2019  Non Fiction  "
            ],
            "text/html": [
              "\n",
              "  <div id=\"df-a195dd0d-320a-4c09-b640-54b937a43035\" class=\"colab-df-container\">\n",
              "    <div>\n",
              "<style scoped>\n",
              "    .dataframe tbody tr th:only-of-type {\n",
              "        vertical-align: middle;\n",
              "    }\n",
              "\n",
              "    .dataframe tbody tr th {\n",
              "        vertical-align: top;\n",
              "    }\n",
              "\n",
              "    .dataframe thead th {\n",
              "        text-align: right;\n",
              "    }\n",
              "</style>\n",
              "<table border=\"1\" class=\"dataframe\">\n",
              "  <thead>\n",
              "    <tr style=\"text-align: right;\">\n",
              "      <th></th>\n",
              "      <th>name</th>\n",
              "      <th>author</th>\n",
              "      <th>user_rating</th>\n",
              "      <th>reviews</th>\n",
              "      <th>price</th>\n",
              "      <th>year</th>\n",
              "      <th>genre</th>\n",
              "    </tr>\n",
              "  </thead>\n",
              "  <tbody>\n",
              "    <tr>\n",
              "      <th>0</th>\n",
              "      <td>10-Day Green Smoothie Cleanse</td>\n",
              "      <td>JJ Smith</td>\n",
              "      <td>4.7</td>\n",
              "      <td>17350</td>\n",
              "      <td>8</td>\n",
              "      <td>2016</td>\n",
              "      <td>Non Fiction</td>\n",
              "    </tr>\n",
              "    <tr>\n",
              "      <th>1</th>\n",
              "      <td>11/22/63: A Novel</td>\n",
              "      <td>Stephen King</td>\n",
              "      <td>4.6</td>\n",
              "      <td>2052</td>\n",
              "      <td>22</td>\n",
              "      <td>2011</td>\n",
              "      <td>Fiction</td>\n",
              "    </tr>\n",
              "    <tr>\n",
              "      <th>2</th>\n",
              "      <td>12 Rules for Life: An Antidote to Chaos</td>\n",
              "      <td>Jordan B. Peterson</td>\n",
              "      <td>4.7</td>\n",
              "      <td>18979</td>\n",
              "      <td>15</td>\n",
              "      <td>2018</td>\n",
              "      <td>Non Fiction</td>\n",
              "    </tr>\n",
              "    <tr>\n",
              "      <th>3</th>\n",
              "      <td>1984 (Signet Classics)</td>\n",
              "      <td>George Orwell</td>\n",
              "      <td>4.7</td>\n",
              "      <td>21424</td>\n",
              "      <td>6</td>\n",
              "      <td>2017</td>\n",
              "      <td>Fiction</td>\n",
              "    </tr>\n",
              "    <tr>\n",
              "      <th>4</th>\n",
              "      <td>5,000 Awesome Facts (About Everything!) (Natio...</td>\n",
              "      <td>National Geographic Kids</td>\n",
              "      <td>4.8</td>\n",
              "      <td>7665</td>\n",
              "      <td>12</td>\n",
              "      <td>2019</td>\n",
              "      <td>Non Fiction</td>\n",
              "    </tr>\n",
              "  </tbody>\n",
              "</table>\n",
              "</div>\n",
              "    <div class=\"colab-df-buttons\">\n",
              "\n",
              "  <div class=\"colab-df-container\">\n",
              "    <button class=\"colab-df-convert\" onclick=\"convertToInteractive('df-a195dd0d-320a-4c09-b640-54b937a43035')\"\n",
              "            title=\"Convert this dataframe to an interactive table.\"\n",
              "            style=\"display:none;\">\n",
              "\n",
              "  <svg xmlns=\"http://www.w3.org/2000/svg\" height=\"24px\" viewBox=\"0 -960 960 960\">\n",
              "    <path d=\"M120-120v-720h720v720H120Zm60-500h600v-160H180v160Zm220 220h160v-160H400v160Zm0 220h160v-160H400v160ZM180-400h160v-160H180v160Zm440 0h160v-160H620v160ZM180-180h160v-160H180v160Zm440 0h160v-160H620v160Z\"/>\n",
              "  </svg>\n",
              "    </button>\n",
              "\n",
              "  <style>\n",
              "    .colab-df-container {\n",
              "      display:flex;\n",
              "      gap: 12px;\n",
              "    }\n",
              "\n",
              "    .colab-df-convert {\n",
              "      background-color: #E8F0FE;\n",
              "      border: none;\n",
              "      border-radius: 50%;\n",
              "      cursor: pointer;\n",
              "      display: none;\n",
              "      fill: #1967D2;\n",
              "      height: 32px;\n",
              "      padding: 0 0 0 0;\n",
              "      width: 32px;\n",
              "    }\n",
              "\n",
              "    .colab-df-convert:hover {\n",
              "      background-color: #E2EBFA;\n",
              "      box-shadow: 0px 1px 2px rgba(60, 64, 67, 0.3), 0px 1px 3px 1px rgba(60, 64, 67, 0.15);\n",
              "      fill: #174EA6;\n",
              "    }\n",
              "\n",
              "    .colab-df-buttons div {\n",
              "      margin-bottom: 4px;\n",
              "    }\n",
              "\n",
              "    [theme=dark] .colab-df-convert {\n",
              "      background-color: #3B4455;\n",
              "      fill: #D2E3FC;\n",
              "    }\n",
              "\n",
              "    [theme=dark] .colab-df-convert:hover {\n",
              "      background-color: #434B5C;\n",
              "      box-shadow: 0px 1px 3px 1px rgba(0, 0, 0, 0.15);\n",
              "      filter: drop-shadow(0px 1px 2px rgba(0, 0, 0, 0.3));\n",
              "      fill: #FFFFFF;\n",
              "    }\n",
              "  </style>\n",
              "\n",
              "    <script>\n",
              "      const buttonEl =\n",
              "        document.querySelector('#df-a195dd0d-320a-4c09-b640-54b937a43035 button.colab-df-convert');\n",
              "      buttonEl.style.display =\n",
              "        google.colab.kernel.accessAllowed ? 'block' : 'none';\n",
              "\n",
              "      async function convertToInteractive(key) {\n",
              "        const element = document.querySelector('#df-a195dd0d-320a-4c09-b640-54b937a43035');\n",
              "        const dataTable =\n",
              "          await google.colab.kernel.invokeFunction('convertToInteractive',\n",
              "                                                    [key], {});\n",
              "        if (!dataTable) return;\n",
              "\n",
              "        const docLinkHtml = 'Like what you see? Visit the ' +\n",
              "          '<a target=\"_blank\" href=https://colab.research.google.com/notebooks/data_table.ipynb>data table notebook</a>'\n",
              "          + ' to learn more about interactive tables.';\n",
              "        element.innerHTML = '';\n",
              "        dataTable['output_type'] = 'display_data';\n",
              "        await google.colab.output.renderOutput(dataTable, element);\n",
              "        const docLink = document.createElement('div');\n",
              "        docLink.innerHTML = docLinkHtml;\n",
              "        element.appendChild(docLink);\n",
              "      }\n",
              "    </script>\n",
              "  </div>\n",
              "\n",
              "\n",
              "<div id=\"df-5e3c130d-06db-403f-bb50-5049c7d7f68e\">\n",
              "  <button class=\"colab-df-quickchart\" onclick=\"quickchart('df-5e3c130d-06db-403f-bb50-5049c7d7f68e')\"\n",
              "            title=\"Suggest charts\"\n",
              "            style=\"display:none;\">\n",
              "\n",
              "<svg xmlns=\"http://www.w3.org/2000/svg\" height=\"24px\"viewBox=\"0 0 24 24\"\n",
              "     width=\"24px\">\n",
              "    <g>\n",
              "        <path d=\"M19 3H5c-1.1 0-2 .9-2 2v14c0 1.1.9 2 2 2h14c1.1 0 2-.9 2-2V5c0-1.1-.9-2-2-2zM9 17H7v-7h2v7zm4 0h-2V7h2v10zm4 0h-2v-4h2v4z\"/>\n",
              "    </g>\n",
              "</svg>\n",
              "  </button>\n",
              "\n",
              "<style>\n",
              "  .colab-df-quickchart {\n",
              "      --bg-color: #E8F0FE;\n",
              "      --fill-color: #1967D2;\n",
              "      --hover-bg-color: #E2EBFA;\n",
              "      --hover-fill-color: #174EA6;\n",
              "      --disabled-fill-color: #AAA;\n",
              "      --disabled-bg-color: #DDD;\n",
              "  }\n",
              "\n",
              "  [theme=dark] .colab-df-quickchart {\n",
              "      --bg-color: #3B4455;\n",
              "      --fill-color: #D2E3FC;\n",
              "      --hover-bg-color: #434B5C;\n",
              "      --hover-fill-color: #FFFFFF;\n",
              "      --disabled-bg-color: #3B4455;\n",
              "      --disabled-fill-color: #666;\n",
              "  }\n",
              "\n",
              "  .colab-df-quickchart {\n",
              "    background-color: var(--bg-color);\n",
              "    border: none;\n",
              "    border-radius: 50%;\n",
              "    cursor: pointer;\n",
              "    display: none;\n",
              "    fill: var(--fill-color);\n",
              "    height: 32px;\n",
              "    padding: 0;\n",
              "    width: 32px;\n",
              "  }\n",
              "\n",
              "  .colab-df-quickchart:hover {\n",
              "    background-color: var(--hover-bg-color);\n",
              "    box-shadow: 0 1px 2px rgba(60, 64, 67, 0.3), 0 1px 3px 1px rgba(60, 64, 67, 0.15);\n",
              "    fill: var(--button-hover-fill-color);\n",
              "  }\n",
              "\n",
              "  .colab-df-quickchart-complete:disabled,\n",
              "  .colab-df-quickchart-complete:disabled:hover {\n",
              "    background-color: var(--disabled-bg-color);\n",
              "    fill: var(--disabled-fill-color);\n",
              "    box-shadow: none;\n",
              "  }\n",
              "\n",
              "  .colab-df-spinner {\n",
              "    border: 2px solid var(--fill-color);\n",
              "    border-color: transparent;\n",
              "    border-bottom-color: var(--fill-color);\n",
              "    animation:\n",
              "      spin 1s steps(1) infinite;\n",
              "  }\n",
              "\n",
              "  @keyframes spin {\n",
              "    0% {\n",
              "      border-color: transparent;\n",
              "      border-bottom-color: var(--fill-color);\n",
              "      border-left-color: var(--fill-color);\n",
              "    }\n",
              "    20% {\n",
              "      border-color: transparent;\n",
              "      border-left-color: var(--fill-color);\n",
              "      border-top-color: var(--fill-color);\n",
              "    }\n",
              "    30% {\n",
              "      border-color: transparent;\n",
              "      border-left-color: var(--fill-color);\n",
              "      border-top-color: var(--fill-color);\n",
              "      border-right-color: var(--fill-color);\n",
              "    }\n",
              "    40% {\n",
              "      border-color: transparent;\n",
              "      border-right-color: var(--fill-color);\n",
              "      border-top-color: var(--fill-color);\n",
              "    }\n",
              "    60% {\n",
              "      border-color: transparent;\n",
              "      border-right-color: var(--fill-color);\n",
              "    }\n",
              "    80% {\n",
              "      border-color: transparent;\n",
              "      border-right-color: var(--fill-color);\n",
              "      border-bottom-color: var(--fill-color);\n",
              "    }\n",
              "    90% {\n",
              "      border-color: transparent;\n",
              "      border-bottom-color: var(--fill-color);\n",
              "    }\n",
              "  }\n",
              "</style>\n",
              "\n",
              "  <script>\n",
              "    async function quickchart(key) {\n",
              "      const quickchartButtonEl =\n",
              "        document.querySelector('#' + key + ' button');\n",
              "      quickchartButtonEl.disabled = true;  // To prevent multiple clicks.\n",
              "      quickchartButtonEl.classList.add('colab-df-spinner');\n",
              "      try {\n",
              "        const charts = await google.colab.kernel.invokeFunction(\n",
              "            'suggestCharts', [key], {});\n",
              "      } catch (error) {\n",
              "        console.error('Error during call to suggestCharts:', error);\n",
              "      }\n",
              "      quickchartButtonEl.classList.remove('colab-df-spinner');\n",
              "      quickchartButtonEl.classList.add('colab-df-quickchart-complete');\n",
              "    }\n",
              "    (() => {\n",
              "      let quickchartButtonEl =\n",
              "        document.querySelector('#df-5e3c130d-06db-403f-bb50-5049c7d7f68e button');\n",
              "      quickchartButtonEl.style.display =\n",
              "        google.colab.kernel.accessAllowed ? 'block' : 'none';\n",
              "    })();\n",
              "  </script>\n",
              "</div>\n",
              "    </div>\n",
              "  </div>\n"
            ],
            "application/vnd.google.colaboratory.intrinsic+json": {
              "type": "dataframe",
              "variable_name": "df",
              "summary": "{\n  \"name\": \"df\",\n  \"rows\": 550,\n  \"fields\": [\n    {\n      \"column\": \"name\",\n      \"properties\": {\n        \"dtype\": \"string\",\n        \"num_unique_values\": 351,\n        \"samples\": [\n          \"Life\",\n          \"Where the Crawdads Sing\",\n          \"Thinking, Fast and Slow\"\n        ],\n        \"semantic_type\": \"\",\n        \"description\": \"\"\n      }\n    },\n    {\n      \"column\": \"author\",\n      \"properties\": {\n        \"dtype\": \"category\",\n        \"num_unique_values\": 248,\n        \"samples\": [\n          \"Jeff Kinney\",\n          \"Amor Towles\",\n          \"Stieg Larsson\"\n        ],\n        \"semantic_type\": \"\",\n        \"description\": \"\"\n      }\n    },\n    {\n      \"column\": \"user_rating\",\n      \"properties\": {\n        \"dtype\": \"number\",\n        \"std\": 0.2269803650251963,\n        \"min\": 3.3,\n        \"max\": 4.9,\n        \"num_unique_values\": 14,\n        \"samples\": [\n          3.8,\n          4.0,\n          4.7\n        ],\n        \"semantic_type\": \"\",\n        \"description\": \"\"\n      }\n    },\n    {\n      \"column\": \"reviews\",\n      \"properties\": {\n        \"dtype\": \"number\",\n        \"std\": 11731,\n        \"min\": 37,\n        \"max\": 87841,\n        \"num_unique_values\": 346,\n        \"samples\": [\n          5972,\n          1884,\n          49288\n        ],\n        \"semantic_type\": \"\",\n        \"description\": \"\"\n      }\n    },\n    {\n      \"column\": \"price\",\n      \"properties\": {\n        \"dtype\": \"number\",\n        \"std\": 10,\n        \"min\": 0,\n        \"max\": 105,\n        \"num_unique_values\": 40,\n        \"samples\": [\n          0,\n          24,\n          9\n        ],\n        \"semantic_type\": \"\",\n        \"description\": \"\"\n      }\n    },\n    {\n      \"column\": \"year\",\n      \"properties\": {\n        \"dtype\": \"number\",\n        \"std\": 3,\n        \"min\": 2009,\n        \"max\": 2019,\n        \"num_unique_values\": 11,\n        \"samples\": [\n          2014,\n          2016,\n          2013\n        ],\n        \"semantic_type\": \"\",\n        \"description\": \"\"\n      }\n    },\n    {\n      \"column\": \"genre\",\n      \"properties\": {\n        \"dtype\": \"category\",\n        \"num_unique_values\": 2,\n        \"samples\": [\n          \"Fiction\",\n          \"Non Fiction\"\n        ],\n        \"semantic_type\": \"\",\n        \"description\": \"\"\n      }\n    }\n  ]\n}"
            }
          },
          "metadata": {},
          "execution_count": 4
        }
      ]
    },
    {
      "cell_type": "code",
      "source": [
        "missing_values = df.isna().sum()\n",
        "print(\"Кількість пропусків у кожному стовпці:\")\n",
        "print(missing_values)"
      ],
      "metadata": {
        "colab": {
          "base_uri": "https://localhost:8080/"
        },
        "id": "jDQLCEEV6s6Y",
        "outputId": "e79236b9-8354-4493-8f48-75e4c5add086"
      },
      "execution_count": null,
      "outputs": [
        {
          "output_type": "stream",
          "name": "stdout",
          "text": [
            "Кількість пропусків у кожному стовпці:\n",
            "name           0\n",
            "author         0\n",
            "user_rating    0\n",
            "reviews        0\n",
            "price          0\n",
            "year           0\n",
            "genre          0\n",
            "dtype: int64\n"
          ]
        }
      ]
    },
    {
      "cell_type": "markdown",
      "source": [
        "Відповідь: Чи є в якихось змінних пропуски? -- НІ"
      ],
      "metadata": {
        "id": "RS-aEG4J6y6A"
      }
    },
    {
      "cell_type": "code",
      "source": [
        "unique_genres = df['genre'].unique()\n",
        "print(\"Відповідь: Які є унікальні жанри?\")\n",
        "print(unique_genres)"
      ],
      "metadata": {
        "colab": {
          "base_uri": "https://localhost:8080/"
        },
        "id": "Vm912V816-Ri",
        "outputId": "d9a9b1bb-7d3e-4f7c-ccbb-1454eeb2adc0"
      },
      "execution_count": null,
      "outputs": [
        {
          "output_type": "stream",
          "name": "stdout",
          "text": [
            "Відповідь: Які є унікальні жанри?\n",
            "['Non Fiction' 'Fiction']\n"
          ]
        }
      ]
    },
    {
      "cell_type": "code",
      "source": [
        "import matplotlib.pyplot as plt\n",
        "# Побудова гістограми розподілу цін\n",
        "plt.figure(figsize=(10, 6))\n",
        "df['price'].plot(kind='hist', bins=20, edgecolor='black')\n",
        "plt.title('Розподіл цін')\n",
        "plt.xlabel('Ціна')\n",
        "plt.ylabel('Частота')\n",
        "plt.grid(True)\n",
        "plt.show()"
      ],
      "metadata": {
        "colab": {
          "base_uri": "https://localhost:8080/",
          "height": 564
        },
        "id": "6vD6r-Hh7KTF",
        "outputId": "69d04cae-8ee5-483a-92a2-d3bc61369121"
      },
      "execution_count": null,
      "outputs": [
        {
          "output_type": "display_data",
          "data": {
            "text/plain": [
              "<Figure size 1000x600 with 1 Axes>"
            ],
            "image/png": "[encoded data removed]"
          },
          "metadata": {}
        }
      ]
    },
    {
      "cell_type": "code",
      "source": [
        "max_price = df['price'].max()\n",
        "min_price = df['price'].min()\n",
        "mean_price = df['price'].mean()\n",
        "median_price = df['price'].median()\n",
        "\n",
        "print(f\"Максимальна ціна: {max_price}\")\n",
        "print(f\"Мінімальна ціна: {min_price}\")\n",
        "print(f\"Середня ціна: {mean_price}\")\n",
        "print(f\"Медіанна ціна: {median_price}\")\n"
      ],
      "metadata": {
        "colab": {
          "base_uri": "https://localhost:8080/"
        },
        "id": "gfP_jKLH7oY4",
        "outputId": "85333fd3-893a-4ae4-9564-eb93bf2d7ecf"
      },
      "execution_count": null,
      "outputs": [
        {
          "output_type": "stream",
          "name": "stdout",
          "text": [
            "Максимальна ціна: 105\n",
            "Мінімальна ціна: 0\n",
            "Середня ціна: 13.1\n",
            "Медіанна ціна: 11.0\n"
          ]
        }
      ]
    },
    {
      "cell_type": "code",
      "source": [
        "max_rating = df['user_rating'].max()\n",
        "print(f\"Найвищий рейтинг у датасеті: {max_rating}\")\n"
      ],
      "metadata": {
        "colab": {
          "base_uri": "https://localhost:8080/"
        },
        "id": "w-F1sFfV7-FO",
        "outputId": "0ca77953-e562-41c8-f2e7-bab70d2fec6c"
      },
      "execution_count": null,
      "outputs": [
        {
          "output_type": "stream",
          "name": "stdout",
          "text": [
            "Найвищий рейтинг у датасеті: 4.9\n"
          ]
        }
      ]
    },
    {
      "cell_type": "code",
      "source": [
        "books_with_max_rating = df[df['user_rating'] == max_rating]\n",
        "num_books_with_max_rating = books_with_max_rating.shape[0]\n",
        "print(f\"Кількість книг з найвищим рейтингом: {num_books_with_max_rating}\")"
      ],
      "metadata": {
        "colab": {
          "base_uri": "https://localhost:8080/"
        },
        "id": "DnK-HQ_88JZj",
        "outputId": "0d1bc5d2-09d3-4387-d8f6-624803130a13"
      },
      "execution_count": null,
      "outputs": [
        {
          "output_type": "stream",
          "name": "stdout",
          "text": [
            "Кількість книг з найвищим рейтингом: 52\n"
          ]
        }
      ]
    },
    {
      "cell_type": "code",
      "source": [
        "max_reviews = df['reviews'].max()\n",
        "book_with_max_reviews = df[df['reviews'] == max_reviews]\n",
        "\n",
        "print(\"Книга з найбільшою кількістю відгуків:\")\n",
        "print(book_with_max_reviews[['name', 'author', 'reviews']])\n"
      ],
      "metadata": {
        "colab": {
          "base_uri": "https://localhost:8080/"
        },
        "id": "po7j3niX8Rsx",
        "outputId": "a2a38704-e59f-47b8-f4d8-d8bf525cb545"
      },
      "execution_count": null,
      "outputs": [
        {
          "output_type": "stream",
          "name": "stdout",
          "text": [
            "Книга з найбільшою кількістю відгуків:\n",
            "                        name       author  reviews\n",
            "534  Where the Crawdads Sing  Delia Owens    87841\n"
          ]
        }
      ]
    },
    {
      "cell_type": "code",
      "source": [
        "# Фільтрація датасету за роком (2015)\n",
        "df_2015 = df[df['year'] == 2015]\n",
        "\n",
        "# Вибір рядків, які потрапили до Топ-50 (можливо, вибірка за рейтингом)\n",
        "top_50_2015 = df_2015.nlargest(50, 'user_rating')\n",
        "print(\"ТОП книги, що потрапили до Топ-50 у 2015 році:\")\n",
        "print(top_50_2015[['name', 'user_rating','price']])\n",
        "\n",
        "most_expensive_in_top_50_2015 = top_50_2015.nlargest(1, 'price')\n",
        "\n",
        "print(\"\\nНайдорожча книга з ТОП книг, що потрапили до Топ-50 у 2015 році:\")\n",
        "print(most_expensive_in_top_50_2015[['name', 'price']])\n"
      ],
      "metadata": {
        "colab": {
          "base_uri": "https://localhost:8080/"
        },
        "id": "yXzifjO28sDZ",
        "outputId": "057bfe53-4272-41b1-eb37-54beb83a7b42"
      },
      "execution_count": null,
      "outputs": [
        {
          "output_type": "stream",
          "name": "stdout",
          "text": [
            "ТОП книги, що потрапили до Топ-50 у 2015 році:\n",
            "                                                  name  user_rating  price\n",
            "478                        The Very Hungry Caterpillar          4.9      5\n",
            "248                          Oh, the Places You'll Go!          4.9      8\n",
            "191  Jesus Calling: Enjoying Peace in His Presence ...          4.9      8\n",
            "174                       Humans of New York : Stories          4.9     17\n",
            "224                                   Love You Forever          4.8      5\n",
            "123                               Giraffes Can't Dance          4.8      4\n",
            "507                              To Kill a Mockingbird          4.8      0\n",
            "447  The Pioneer Woman Cooks: Dinnertime - Comfort ...          4.8     14\n",
            "437                           The Nightingale: A Novel          4.8     11\n",
            "362                           The Day the Crayons Quit          4.8      9\n",
            "352  The Boys in the Boat: Nine Americans and Their...          4.8     12\n",
            "350                          The Book with No Pictures          4.8      8\n",
            "325  The 5 Love Languages: The Secret to Love that ...          4.8      8\n",
            "253              Old School (Diary of a Wimpy Kid #10)          4.8      7\n",
            "542                                             Wonder          4.8      9\n",
            "54   Creative Haven Creative Cats Coloring Book (Ad...          4.8      4\n",
            "63                      Dear Zoo: A Lift-the-Flap Book          4.8      5\n",
            "34   Being Mortal: Medicine and What Matters in the...          4.8     15\n",
            "55   Creative Haven Owls Coloring Book (Adult Color...          4.8      5\n",
            "528             What Pet Should I Get? (Classic Seuss)          4.7     14\n",
            "492                                The Wright Brothers          4.7     16\n",
            "433                                        The Martian          4.7      9\n",
            "376  The Four Agreements: A Practical Guide to Pers...          4.7      6\n",
            "35                            Between the World and Me          4.7     13\n",
            "335  The 7 Habits of Highly Effective People: Power...          4.7     16\n",
            "295  Secret Garden: An Inky Treasure Hunt and Color...          4.7      9\n",
            "111                                    First 100 Words          4.7      4\n",
            "99   Enchanted Forest: An Inky Quest and Coloring b...          4.7      9\n",
            "158                         Harry Potter Coloring Book          4.7      9\n",
            "167              How to Win Friends & Influence People          4.7     11\n",
            "234             Mindset: The New Psychology of Success          4.6     10\n",
            "501  Thug Kitchen: The Official Cookbook: Eat Like ...          4.6     23\n",
            "483  The Whole30: The 30-Day Guide to Total Health ...          4.6     16\n",
            "21                         All the Light We Cannot See          4.6     14\n",
            "23   American Sniper: The Autobiography of the Most...          4.6      9\n",
            "28                        Baby Touch and Feel: Animals          4.6      5\n",
            "16   Adult Coloring Book: Stress Relieving Animal D...          4.6      6\n",
            "29            Balance (Angie's Extreme Stress Menders)          4.6     11\n",
            "89   Dover Creative Haven Art Nouveau Animal Design...          4.6      5\n",
            "201  Killing Reagan: The Violent Assault That Chang...          4.6      5\n",
            "210                      Laugh-Out-Loud Jokes for Kids          4.6      4\n",
            "423  The Life-Changing Magic of Tidying Up: The Jap...          4.5     11\n",
            "206                         Knock-Knock Jokes for Kids          4.5      4\n",
            "277  Publication Manual of the American Psychologic...          4.5     46\n",
            "18   Adult Coloring Books: A Coloring Book for Adul...          4.5      8\n",
            "17      Adult Coloring Book: Stress Relieving Patterns          4.4      6\n",
            "149  Grey: Fifty Shades of Grey as Told by Christia...          4.4     14\n",
            "382                              The Girl on the Train          4.1     18\n",
            "310                                StrengthsFinder 2.0          4.0     17\n",
            "132                         Go Set a Watchman: A Novel          3.6     19\n",
            "\n",
            "Найдорожча книга з ТОП книг, що потрапили до Топ-50 у 2015 році:\n",
            "                                                  name  price\n",
            "277  Publication Manual of the American Psychologic...     46\n"
          ]
        }
      ]
    },
    {
      "cell_type": "code",
      "source": [
        "top_50_2010_fiction = df[(df['year'] == 2010) & (df['genre'] == 'Fiction')]\n",
        "# Кількість книг жанру Fiction, які потрапили до Топ-50 у 2010 році\n",
        "num_books_fiction_in_top_50_2010 = top_50_2010_fiction.shape[0]\n",
        "print(f\"Кількість книг жанру Fiction, які потрапили до Топ-50 у 2010 році: {num_books_fiction_in_top_50_2010}\")\n"
      ],
      "metadata": {
        "colab": {
          "base_uri": "https://localhost:8080/"
        },
        "id": "uDLPUoDr9kgd",
        "outputId": "a4ddf5e9-8a3b-46dc-f65c-fb10b05aa0b4"
      },
      "execution_count": null,
      "outputs": [
        {
          "output_type": "stream",
          "name": "stdout",
          "text": [
            "Кількість книг жанру Fiction, які потрапили до Топ-50 у 2010 році: 20\n"
          ]
        }
      ]
    },
    {
      "cell_type": "code",
      "source": [
        "top_50_2010_2011 = df[(df['year'].isin([2010, 2011])) & (df['user_rating'] == 4.9)]\n",
        "num_books_rating_4_9_in_top_50_2010_2011 = top_50_2010_2011.shape[0]\n",
        "\n",
        "print(f\"Кількість книг з рейтингом 4.9, які потрапили до Топ-50 у 2010 та 2011 роках: {num_books_rating_4_9_in_top_50_2010_2011}\")\n"
      ],
      "metadata": {
        "colab": {
          "base_uri": "https://localhost:8080/"
        },
        "id": "mV6JKJlK9sRp",
        "outputId": "7497668c-c1b1-4a38-8574-7abcc1aebd67"
      },
      "execution_count": null,
      "outputs": [
        {
          "output_type": "stream",
          "name": "stdout",
          "text": [
            "Кількість книг з рейтингом 4.9, які потрапили до Топ-50 у 2010 та 2011 роках: 1\n"
          ]
        }
      ]
    },
    {
      "cell_type": "code",
      "source": [
        "top_2015_under_8 = df[(df['year'] == 2015) & (df['price'] < 8)]\n",
        "sorted_top_2015_under_8 = top_2015_under_8.sort_values(by='price', ascending=True)\n",
        "\n",
        "last_book_sorted = sorted_top_2015_under_8.tail(1)\n",
        "\n",
        "print(\"Остання книга у відсортованому списку:\")\n",
        "print(last_book_sorted[['name', 'author', 'price']])\n"
      ],
      "metadata": {
        "colab": {
          "base_uri": "https://localhost:8080/"
        },
        "id": "zCbfo9Sp-IN3",
        "outputId": "a0de03bd-9135-4a46-927f-0c20f588262e"
      },
      "execution_count": null,
      "outputs": [
        {
          "output_type": "stream",
          "name": "stdout",
          "text": [
            "Остання книга у відсортованому списку:\n",
            "                                      name       author  price\n",
            "253  Old School (Diary of a Wimpy Kid #10)  Jeff Kinney      7\n"
          ]
        }
      ]
    },
    {
      "cell_type": "markdown",
      "source": [
        "**Агрегування даних та з'єднання таблиць**"
      ],
      "metadata": {
        "id": "GXMCJfOkFzL5"
      }
    },
    {
      "cell_type": "code",
      "source": [
        "# Групування за жанрами та обчислення максимальної та мінімальної цін\n",
        "genre_prices = df.groupby('genre')['price'].agg(['max', 'min'])\n",
        "\n",
        "# Виведення результатів\n",
        "print(\"Максимальна та мінімальна ціна для кожного з жанрів:\")\n",
        "print(\"Жанр Fiction:\")\n",
        "print(f\"Максимальна ціна: {genre_prices.loc['Fiction', 'max']}\")\n",
        "print(f\"Мінімальна ціна: {genre_prices.loc['Fiction', 'min']}\")\n",
        "print(\"\\nЖанр Non Fiction:\")\n",
        "print(f\"Максимальна ціна: {genre_prices.loc['Non Fiction', 'max']}\")\n",
        "print(f\"Мінімальна ціна: {genre_prices.loc['Non Fiction', 'min']}\")"
      ],
      "metadata": {
        "colab": {
          "base_uri": "https://localhost:8080/"
        },
        "id": "1bAw2_h0FO5g",
        "outputId": "32fabb49-7234-4ae3-cc8d-4ffd50f83395"
      },
      "execution_count": null,
      "outputs": [
        {
          "output_type": "stream",
          "name": "stdout",
          "text": [
            "Максимальна та мінімальна ціна для кожного з жанрів:\n",
            "Жанр Fiction:\n",
            "Максимальна ціна: 82\n",
            "Мінімальна ціна: 0\n",
            "\n",
            "Жанр Non Fiction:\n",
            "Максимальна ціна: 105\n",
            "Мінімальна ціна: 0\n"
          ]
        }
      ]
    },
    {
      "cell_type": "code",
      "source": [
        "# Групування за авторами та обчислення кількості книг для кожного автора\n",
        "author_books_count = df.groupby('author')['name'].agg('count').reset_index()\n",
        "\n",
        "print(\"Кількість книг для кожного з авторів:\")\n",
        "print(author_books_count)\n",
        "print(f\"\\nРозмірність таблиці: {author_books_count.shape}\")\n",
        "\n",
        "max_books_author = author_books_count.loc[author_books_count['name'].idxmax()]\n",
        "\n",
        "print(f\"\\nАвтор з найбільшою кількістю книг:\")\n",
        "print(f\"Автор: {max_books_author['author']}\")\n",
        "print(f\"Кількість книг: {max_books_author['name']}\")\n"
      ],
      "metadata": {
        "colab": {
          "base_uri": "https://localhost:8080/"
        },
        "id": "HgDnoZcxFlPT",
        "outputId": "fd716f88-942a-4b68-f683-4f5937f23eda"
      },
      "execution_count": null,
      "outputs": [
        {
          "output_type": "stream",
          "name": "stdout",
          "text": [
            "Кількість книг для кожного з авторів:\n",
            "                         author  name\n",
            "0              Abraham Verghese     2\n",
            "1                Adam Gasiewski     1\n",
            "2                 Adam Mansbach     1\n",
            "3                     Adir Levy     1\n",
            "4    Admiral William H. McRaven     1\n",
            "..                          ...   ...\n",
            "243             Walter Isaacson     3\n",
            "244               William Davis     2\n",
            "245            William P. Young     2\n",
            "246            Wizards RPG Team     3\n",
            "247                Zhi Gang Sha     2\n",
            "\n",
            "[248 rows x 2 columns]\n",
            "\n",
            "Розмірність таблиці: (248, 2)\n",
            "\n",
            "Автор з найбільшою кількістю книг:\n",
            "Автор: Jeff Kinney\n",
            "Кількість книг: 12\n"
          ]
        }
      ]
    },
    {
      "cell_type": "code",
      "source": [
        "# Групування за авторами та обчислення середнього рейтингу для кожного автора\n",
        "author_avg_rating = df.groupby('author')['user_rating'].agg('mean').reset_index()\n",
        "\n",
        "print(\"Середній рейтинг для кожного автора:\")\n",
        "print(author_avg_rating)\n",
        "\n",
        "min_avg_rating_author = author_avg_rating.loc[author_avg_rating['user_rating'].idxmin()]\n",
        "\n",
        "print(f\"\\nУ якого автора середній рейтинг мінімальний:\")\n",
        "print(f\"Автор: {min_avg_rating_author['author']}, {min_avg_rating_author['user_rating']}\")\n",
        "print(f\"Який у цього автора середній рейтинг?: {min_avg_rating_author['user_rating']}\")\n"
      ],
      "metadata": {
        "colab": {
          "base_uri": "https://localhost:8080/"
        },
        "id": "j0Zc0voGGYqS",
        "outputId": "b2094d8c-81df-4f85-d178-fd93a3796a62"
      },
      "execution_count": null,
      "outputs": [
        {
          "output_type": "stream",
          "name": "stdout",
          "text": [
            "Середній рейтинг для кожного автора:\n",
            "                         author  user_rating\n",
            "0              Abraham Verghese     4.600000\n",
            "1                Adam Gasiewski     4.400000\n",
            "2                 Adam Mansbach     4.800000\n",
            "3                     Adir Levy     4.800000\n",
            "4    Admiral William H. McRaven     4.700000\n",
            "..                          ...          ...\n",
            "243             Walter Isaacson     4.566667\n",
            "244               William Davis     4.400000\n",
            "245            William P. Young     4.600000\n",
            "246            Wizards RPG Team     4.800000\n",
            "247                Zhi Gang Sha     4.600000\n",
            "\n",
            "[248 rows x 2 columns]\n",
            "\n",
            "У якого автора середній рейтинг мінімальний:\n",
            "Автор: Donna Tartt, 3.9\n",
            "Який у цього автора середній рейтинг?: 3.9\n"
          ]
        }
      ]
    },
    {
      "cell_type": "code",
      "source": [
        "merged_df = pd.concat([author_books_count, author_avg_rating['user_rating']], axis=1)\n",
        "\n",
        "merged_df.columns = ['author', 'books_count', 'avg_rating']\n",
        "\n",
        "sorted_merged_df = merged_df.sort_values(by=['books_count', 'avg_rating'], ascending=[True, True])\n",
        "\n",
        "print(\"З'єднаний та відсортований датафрейм:\")\n",
        "print(sorted_merged_df)\n",
        "\n",
        "first_author = sorted_merged_df.iloc[0]['author']\n",
        "print(f\"\\nПерший автор у списку: {first_author}\")\n"
      ],
      "metadata": {
        "colab": {
          "base_uri": "https://localhost:8080/"
        },
        "id": "3jNnzvJNI2gU",
        "outputId": "6653fedb-418e-4e30-9e4c-4b45c03d63f8"
      },
      "execution_count": null,
      "outputs": [
        {
          "output_type": "stream",
          "name": "stdout",
          "text": [
            "З'єднаний та відсортований датафрейм:\n",
            "                                 author  books_count  avg_rating\n",
            "171                      Muriel Barbery            1    4.000000\n",
            "43                         Chris Cleave            1    4.100000\n",
            "109                   Ian K. Smith M.D.            1    4.100000\n",
            "186                        Pierre Dukan            1    4.100000\n",
            "81                     Elizabeth Strout            1    4.200000\n",
            "..                                  ...          ...         ...\n",
            "11   American Psychological Association           10    4.500000\n",
            "226                     Suzanne Collins           11    4.663636\n",
            "92                         Gary Chapman           11    4.736364\n",
            "197                        Rick Riordan           11    4.772727\n",
            "120                         Jeff Kinney           12    4.800000\n",
            "\n",
            "[248 rows x 3 columns]\n",
            "\n",
            "Перший автор у списку: Muriel Barbery\n"
          ]
        }
      ]
    },
    {
      "cell_type": "code",
      "source": [
        "import matplotlib.pyplot as plt\n",
        "\n",
        "plt.figure(figsize=(8, 6))\n",
        "\n",
        "# Групування та підрахунок кількості книг за жанрами\n",
        "genre_counts = df['genre'].value_counts()\n",
        "genre_counts.plot(kind='bar', color='skyblue')\n",
        "\n",
        "plt.title('Кількість книг за жанрами')\n",
        "plt.xlabel('Жанр')\n",
        "plt.ylabel('Кількість книг')\n",
        "\n",
        "plt.tight_layout()\n",
        "plt.show()\n"
      ],
      "metadata": {
        "colab": {
          "base_uri": "https://localhost:8080/",
          "height": 607
        },
        "id": "IHj6rphSJPK6",
        "outputId": "7369369c-3ada-4ba5-a727-e4803066e50f"
      },
      "execution_count": null,
      "outputs": [
        {
          "output_type": "display_data",
          "data": {
            "text/plain": [
              "<Figure size 800x600 with 1 Axes>"
            ],
            "image/png": "[encoded data removed]"
          },
          "metadata": {}
        }
      ]
    },
    {
      "cell_type": "code",
      "source": [
        "plt.figure(figsize=(8, 6))\n",
        "\n",
        "# Побудова гістограми розподілу цін на книги\n",
        "plt.hist(df['price'], bins=20, color='lightcoral', edgecolor='black')\n",
        "\n",
        "plt.title('Розподіл цін на книги')\n",
        "plt.xlabel('Ціна')\n",
        "plt.ylabel('Частота')\n",
        "\n",
        "plt.tight_layout()\n",
        "plt.show()\n"
      ],
      "metadata": {
        "colab": {
          "base_uri": "https://localhost:8080/",
          "height": 607
        },
        "id": "4kuct-5PJUjL",
        "outputId": "896dbc53-cd42-4338-caf9-85e1fdde37aa"
      },
      "execution_count": null,
      "outputs": [
        {
          "output_type": "display_data",
          "data": {
            "text/plain": [
              "<Figure size 800x600 with 1 Axes>"
            ],
            "image/png": "[encoded data removed]"
          },
          "metadata": {}
        }
      ]
    },
    {
      "cell_type": "code",
      "source": [
        "plt.figure(figsize=(8, 6))\n",
        "\n",
        "# Побудова точкової діаграми залежності рейтингу від кількості відгуків\n",
        "plt.scatter(df['reviews'], df['user_rating'], color='mediumseagreen', alpha=0.6)\n",
        "\n",
        "plt.title('Залежність рейтингу від кількості відгуків')\n",
        "plt.xlabel('Кількість відгуків')\n",
        "plt.ylabel('Рейтинг')\n",
        "\n",
        "plt.tight_layout()\n",
        "plt.show()\n"
      ],
      "metadata": {
        "colab": {
          "base_uri": "https://localhost:8080/",
          "height": 607
        },
        "id": "IgNgNyk0Jbqs",
        "outputId": "8f7c9c93-c95f-4a9e-e64e-3e24c31f22df"
      },
      "execution_count": null,
      "outputs": [
        {
          "output_type": "display_data",
          "data": {
            "text/plain": [
              "<Figure size 800x600 with 1 Axes>"
            ],
            "image/png": "[encoded data removed]"
          },
          "metadata": {}
        }
      ]
    },
    {
      "cell_type": "code",
      "source": [
        "plt.figure(figsize=(8, 8))\n",
        "\n",
        "# Побудова кругової діаграми для розподілу книг за жанрами\n",
        "genre_counts.plot(kind='pie', autopct='%1.1f%%', colors=['lightblue', 'lightcoral'], startangle=90)\n",
        "\n",
        "plt.title('Розподіл книг за жанрами')\n",
        "plt.tight_layout()\n",
        "plt.show()\n"
      ],
      "metadata": {
        "colab": {
          "base_uri": "https://localhost:8080/",
          "height": 795
        },
        "id": "YsGA2xd3Jyfl",
        "outputId": "a1898536-6ab7-402e-fb97-ae908aca1778"
      },
      "execution_count": null,
      "outputs": [
        {
          "output_type": "display_data",
          "data": {
            "text/plain": [
              "<Figure size 800x800 with 1 Axes>"
            ],
            "image/png": "[encoded data removed]"
          },
          "metadata": {}
        }
      ]
    },
    {
      "cell_type": "code",
      "source": [
        "plt.figure(figsize=(10, 6))\n",
        "\n",
        "\n",
        "yearly_avg_rating = df.groupby('year')['user_rating'].mean()\n",
        "yearly_avg_rating.plot(kind='line', marker='o', color='skyblue')\n",
        "\n",
        "plt.title('Зміна середнього рейтингу від року до року')\n",
        "plt.xlabel('Рік')\n",
        "plt.ylabel('Середній рейтинг')\n",
        "\n",
        "plt.tight_layout()\n",
        "plt.grid(True)\n",
        "plt.show()\n"
      ],
      "metadata": {
        "colab": {
          "base_uri": "https://localhost:8080/",
          "height": 607
        },
        "id": "gcREMsDZJ4vC",
        "outputId": "f51554be-8907-4ee7-a6d1-e0f544f8286e"
      },
      "execution_count": null,
      "outputs": [
        {
          "output_type": "display_data",
          "data": {
            "text/plain": [
              "<Figure size 1000x600 with 1 Axes>"
            ],
            "image/png": "[encoded data removed]"
          },
          "metadata": {}
        }
      ]
    },
    {
      "cell_type": "code",
      "source": [
        "from google.colab import drive\n",
        "drive.mount('/content/drive')"
      ],
      "metadata": {
        "id": "2Lqdr2W7KmS_"
      },
      "execution_count": null,
      "outputs": []
    }
  ]
}